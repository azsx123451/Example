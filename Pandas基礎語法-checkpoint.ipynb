{
 "cells": [
  {
   "cell_type": "code",
   "execution_count": 2,
   "metadata": {},
   "outputs": [
    {
     "name": "stdout",
     "output_type": "stream",
     "text": [
      "0     2.0\n",
      "1     4.0\n",
      "2     9.0\n",
      "3     NaN\n",
      "4    87.0\n",
      "dtype: float64\n"
     ]
    }
   ],
   "source": [
    "import pandas as pd\n",
    "import numpy as np\n",
    "a = pd.Series([2,4,9,np.nan,87])\n",
    "print(a)"
   ]
  },
  {
   "cell_type": "code",
   "execution_count": 6,
   "metadata": {},
   "outputs": [
    {
     "data": {
      "text/plain": [
       "DatetimeIndex(['2018-06-09', '2018-06-10', '2018-06-11', '2018-06-12',\n",
       "               '2018-06-13', '2018-06-14', '2018-06-15', '2018-06-16',\n",
       "               '2018-06-17', '2018-06-18', '2018-06-19', '2018-06-20',\n",
       "               '2018-06-21', '2018-06-22', '2018-06-23', '2018-06-24',\n",
       "               '2018-06-25', '2018-06-26', '2018-06-27', '2018-06-28',\n",
       "               '2018-06-29', '2018-06-30'],\n",
       "              dtype='datetime64[ns]', freq='D')"
      ]
     },
     "execution_count": 6,
     "metadata": {},
     "output_type": "execute_result"
    }
   ],
   "source": [
    "dates = pd.date_range('20180609',periods = 22)\n",
    "dates"
   ]
  },
  {
   "cell_type": "code",
   "execution_count": 8,
   "metadata": {},
   "outputs": [
    {
     "data": {
      "text/html": [
       "<div>\n",
       "<style scoped>\n",
       "    .dataframe tbody tr th:only-of-type {\n",
       "        vertical-align: middle;\n",
       "    }\n",
       "\n",
       "    .dataframe tbody tr th {\n",
       "        vertical-align: top;\n",
       "    }\n",
       "\n",
       "    .dataframe thead th {\n",
       "        text-align: right;\n",
       "    }\n",
       "</style>\n",
       "<table border=\"1\" class=\"dataframe\">\n",
       "  <thead>\n",
       "    <tr style=\"text-align: right;\">\n",
       "      <th></th>\n",
       "      <th>1</th>\n",
       "      <th>2</th>\n",
       "      <th>3</th>\n",
       "      <th>4</th>\n",
       "    </tr>\n",
       "  </thead>\n",
       "  <tbody>\n",
       "    <tr>\n",
       "      <th>2018-06-09</th>\n",
       "      <td>0.045475</td>\n",
       "      <td>-0.229017</td>\n",
       "      <td>-0.519077</td>\n",
       "      <td>1.846032</td>\n",
       "    </tr>\n",
       "    <tr>\n",
       "      <th>2018-06-10</th>\n",
       "      <td>-0.698967</td>\n",
       "      <td>-0.383727</td>\n",
       "      <td>2.094265</td>\n",
       "      <td>-0.071675</td>\n",
       "    </tr>\n",
       "    <tr>\n",
       "      <th>2018-06-11</th>\n",
       "      <td>0.260277</td>\n",
       "      <td>-0.415784</td>\n",
       "      <td>-1.234599</td>\n",
       "      <td>0.754408</td>\n",
       "    </tr>\n",
       "    <tr>\n",
       "      <th>2018-06-12</th>\n",
       "      <td>-0.307377</td>\n",
       "      <td>0.993205</td>\n",
       "      <td>-0.081804</td>\n",
       "      <td>0.341213</td>\n",
       "    </tr>\n",
       "    <tr>\n",
       "      <th>2018-06-13</th>\n",
       "      <td>-0.859150</td>\n",
       "      <td>-0.515213</td>\n",
       "      <td>-0.987775</td>\n",
       "      <td>0.166239</td>\n",
       "    </tr>\n",
       "    <tr>\n",
       "      <th>2018-06-14</th>\n",
       "      <td>0.055873</td>\n",
       "      <td>-0.193782</td>\n",
       "      <td>0.126992</td>\n",
       "      <td>-0.925246</td>\n",
       "    </tr>\n",
       "    <tr>\n",
       "      <th>2018-06-15</th>\n",
       "      <td>1.392400</td>\n",
       "      <td>0.163287</td>\n",
       "      <td>-0.268959</td>\n",
       "      <td>-0.654289</td>\n",
       "    </tr>\n",
       "    <tr>\n",
       "      <th>2018-06-16</th>\n",
       "      <td>-2.688334</td>\n",
       "      <td>0.871621</td>\n",
       "      <td>-2.114454</td>\n",
       "      <td>1.107745</td>\n",
       "    </tr>\n",
       "    <tr>\n",
       "      <th>2018-06-17</th>\n",
       "      <td>-0.418632</td>\n",
       "      <td>1.567781</td>\n",
       "      <td>-1.538519</td>\n",
       "      <td>-0.150558</td>\n",
       "    </tr>\n",
       "    <tr>\n",
       "      <th>2018-06-18</th>\n",
       "      <td>0.650816</td>\n",
       "      <td>1.456244</td>\n",
       "      <td>-0.432324</td>\n",
       "      <td>0.006880</td>\n",
       "    </tr>\n",
       "    <tr>\n",
       "      <th>2018-06-19</th>\n",
       "      <td>0.232622</td>\n",
       "      <td>-0.583508</td>\n",
       "      <td>1.378856</td>\n",
       "      <td>0.833364</td>\n",
       "    </tr>\n",
       "    <tr>\n",
       "      <th>2018-06-20</th>\n",
       "      <td>-1.537579</td>\n",
       "      <td>-0.242950</td>\n",
       "      <td>0.353163</td>\n",
       "      <td>0.319809</td>\n",
       "    </tr>\n",
       "    <tr>\n",
       "      <th>2018-06-21</th>\n",
       "      <td>0.507937</td>\n",
       "      <td>1.471521</td>\n",
       "      <td>-0.221703</td>\n",
       "      <td>-0.370482</td>\n",
       "    </tr>\n",
       "    <tr>\n",
       "      <th>2018-06-22</th>\n",
       "      <td>-0.174881</td>\n",
       "      <td>0.574325</td>\n",
       "      <td>0.554996</td>\n",
       "      <td>-3.525692</td>\n",
       "    </tr>\n",
       "    <tr>\n",
       "      <th>2018-06-23</th>\n",
       "      <td>0.066000</td>\n",
       "      <td>0.551001</td>\n",
       "      <td>-1.416631</td>\n",
       "      <td>1.558623</td>\n",
       "    </tr>\n",
       "    <tr>\n",
       "      <th>2018-06-24</th>\n",
       "      <td>0.535907</td>\n",
       "      <td>1.976859</td>\n",
       "      <td>-0.289423</td>\n",
       "      <td>0.218151</td>\n",
       "    </tr>\n",
       "    <tr>\n",
       "      <th>2018-06-25</th>\n",
       "      <td>-1.592148</td>\n",
       "      <td>-1.009056</td>\n",
       "      <td>0.483880</td>\n",
       "      <td>0.685708</td>\n",
       "    </tr>\n",
       "    <tr>\n",
       "      <th>2018-06-26</th>\n",
       "      <td>1.589393</td>\n",
       "      <td>-0.475388</td>\n",
       "      <td>-0.258569</td>\n",
       "      <td>-1.502928</td>\n",
       "    </tr>\n",
       "    <tr>\n",
       "      <th>2018-06-27</th>\n",
       "      <td>1.243252</td>\n",
       "      <td>1.408020</td>\n",
       "      <td>-1.206000</td>\n",
       "      <td>0.315698</td>\n",
       "    </tr>\n",
       "    <tr>\n",
       "      <th>2018-06-28</th>\n",
       "      <td>1.102381</td>\n",
       "      <td>0.357937</td>\n",
       "      <td>1.009566</td>\n",
       "      <td>-0.136273</td>\n",
       "    </tr>\n",
       "    <tr>\n",
       "      <th>2018-06-29</th>\n",
       "      <td>-1.536130</td>\n",
       "      <td>-0.343284</td>\n",
       "      <td>-2.121661</td>\n",
       "      <td>0.278052</td>\n",
       "    </tr>\n",
       "    <tr>\n",
       "      <th>2018-06-30</th>\n",
       "      <td>-0.125613</td>\n",
       "      <td>-1.014342</td>\n",
       "      <td>-0.950316</td>\n",
       "      <td>1.151975</td>\n",
       "    </tr>\n",
       "  </tbody>\n",
       "</table>\n",
       "</div>"
      ],
      "text/plain": [
       "                   1         2         3         4\n",
       "2018-06-09  0.045475 -0.229017 -0.519077  1.846032\n",
       "2018-06-10 -0.698967 -0.383727  2.094265 -0.071675\n",
       "2018-06-11  0.260277 -0.415784 -1.234599  0.754408\n",
       "2018-06-12 -0.307377  0.993205 -0.081804  0.341213\n",
       "2018-06-13 -0.859150 -0.515213 -0.987775  0.166239\n",
       "2018-06-14  0.055873 -0.193782  0.126992 -0.925246\n",
       "2018-06-15  1.392400  0.163287 -0.268959 -0.654289\n",
       "2018-06-16 -2.688334  0.871621 -2.114454  1.107745\n",
       "2018-06-17 -0.418632  1.567781 -1.538519 -0.150558\n",
       "2018-06-18  0.650816  1.456244 -0.432324  0.006880\n",
       "2018-06-19  0.232622 -0.583508  1.378856  0.833364\n",
       "2018-06-20 -1.537579 -0.242950  0.353163  0.319809\n",
       "2018-06-21  0.507937  1.471521 -0.221703 -0.370482\n",
       "2018-06-22 -0.174881  0.574325  0.554996 -3.525692\n",
       "2018-06-23  0.066000  0.551001 -1.416631  1.558623\n",
       "2018-06-24  0.535907  1.976859 -0.289423  0.218151\n",
       "2018-06-25 -1.592148 -1.009056  0.483880  0.685708\n",
       "2018-06-26  1.589393 -0.475388 -0.258569 -1.502928\n",
       "2018-06-27  1.243252  1.408020 -1.206000  0.315698\n",
       "2018-06-28  1.102381  0.357937  1.009566 -0.136273\n",
       "2018-06-29 -1.536130 -0.343284 -2.121661  0.278052\n",
       "2018-06-30 -0.125613 -1.014342 -0.950316  1.151975"
      ]
     },
     "execution_count": 8,
     "metadata": {},
     "output_type": "execute_result"
    }
   ],
   "source": [
    "df = pd.DataFrame(np.random.randn(22,4),index = dates , columns = (1,2,3,4))\n",
    "df"
   ]
  },
  {
   "cell_type": "code",
   "execution_count": 27,
   "metadata": {},
   "outputs": [
    {
     "name": "stdout",
     "output_type": "stream",
     "text": [
      "   0   1   2\n",
      "0  0   1   2\n",
      "1  3   4   5\n",
      "2  6   7   8\n",
      "3  9  10  11\n",
      "0    int32\n",
      "1    int32\n",
      "2    int32\n",
      "dtype: object\n",
      "RangeIndex(start=0, stop=4, step=1)\n",
      "RangeIndex(start=0, stop=3, step=1)\n",
      "[[ 0  1  2]\n",
      " [ 3  4  5]\n",
      " [ 6  7  8]\n",
      " [ 9 10 11]]\n",
      "              0          1          2\n",
      "count  4.000000   4.000000   4.000000\n",
      "mean   4.500000   5.500000   6.500000\n",
      "std    3.872983   3.872983   3.872983\n",
      "min    0.000000   1.000000   2.000000\n",
      "25%    2.250000   3.250000   4.250000\n",
      "50%    4.500000   5.500000   6.500000\n",
      "75%    6.750000   7.750000   8.750000\n",
      "max    9.000000  10.000000  11.000000\n",
      "   0  1  2   3\n",
      "0  0  3  6   9\n",
      "1  1  4  7  10\n",
      "2  2  5  8  11\n",
      "    2   1  0\n",
      "0   2   1  0\n",
      "1   5   4  3\n",
      "2   8   7  6\n",
      "3  11  10  9\n",
      "   0   1   2\n",
      "3  9  10  11\n",
      "2  6   7   8\n",
      "1  3   4   5\n",
      "0  0   1   2\n"
     ]
    }
   ],
   "source": [
    "df1 = pd.DataFrame(np.arange(12).reshape(4,3))\n",
    "print(df1)\n",
    "print(df1.dtypes)\n",
    "print(df1.index)\n",
    "print(df1.columns)\n",
    "print(df1.values)\n",
    "print(df1.describe())\n",
    "print(df1.T)  #翻轉\n",
    "print(df1.sort_index(axis = 1,ascending = False))  #以倒的序列進行排序\n",
    "print(df1.sort_index(axis = 0,ascending = False))\n"
   ]
  },
  {
   "cell_type": "code",
   "execution_count": 44,
   "metadata": {},
   "outputs": [
    {
     "name": "stdout",
     "output_type": "stream",
     "text": [
      "                   A         B         C         D\n",
      "2018-06-10 -0.117253 -0.471358 -1.329102  0.992539\n",
      "2018-06-12 -1.239934 -0.190560  2.115194 -0.997245\n",
      "2018-06-13 -0.321779  0.136010 -1.069489 -0.339407\n",
      "2018-06-14 -1.523433  1.142678 -0.057039  0.423614\n",
      "2018-06-16 -0.282183  0.453582  1.126159 -0.238883\n",
      "2018-06-17  0.527834  0.792891 -0.154488 -1.064320\n",
      "2018-06-18  0.022213  1.357947 -1.198219  0.899155\n",
      "2018-06-19 -0.044917  1.579583  1.087972  0.193026\n",
      "2018-06-20  0.264951 -0.016695 -0.183800 -0.702171\n",
      "2018-06-21 -1.271681 -0.701439  1.643838  0.474949\n",
      "2018-06-23 -1.661838 -1.456314  0.320055  0.511998\n",
      "2018-06-24  0.008979  1.172471  0.367486 -1.056900\n",
      "2018-06-25 -0.342151  0.660254  1.717190  1.585162\n",
      "2018-06-26  0.327025  1.507518 -0.466490  0.667699\n",
      "2018-06-27 -1.272446 -0.039131 -0.104376 -1.360612\n",
      "2018-06-29  0.568952 -2.877351  1.096792  0.744406\n",
      "2018-06-30 -0.854149  0.249521  0.066708  2.912994\n"
     ]
    }
   ],
   "source": [
    "dates = pd.date_range('20180609',periods = 22)\n",
    "df = pd.DataFrame(np.random.randn(22,4),index = dates , columns = ('A','B','C','D'))\n",
    "print(df.A)\n",
    "print(df[0:3])\n",
    "print(df.loc['20180615'])  #選取標籤\n",
    "print(df.loc['20180615',['A','B']])\n",
    "print(df.iloc[1])\n",
    "print(df.iloc[2,1])\n",
    "print(df.ix[:2,['B','C']])\n",
    "print(df[df.A < 1])"
   ]
  },
  {
   "cell_type": "code",
   "execution_count": 45,
   "metadata": {},
   "outputs": [
    {
     "name": "stdout",
     "output_type": "stream",
     "text": [
      "             A   B   C   D  F\n",
      "2018-06-10   0   1   2   3  1\n",
      "2018-06-11   4   5   6   7  1\n",
      "2018-06-12   8   9  10  69  1\n",
      "2018-06-13  12  13  14  15  1\n",
      "2018-06-14  16  17  18  19  1\n",
      "2018-06-15  20  21  22  23  1\n",
      "2018-06-16  24  25  26  27  1\n",
      "2018-06-17  28  29  30  31  1\n",
      "2018-06-18  32  33  34  35  1\n",
      "2018-06-19  36  37  38  39  1\n",
      "2018-06-20  40  41  69  43  1\n",
      "2018-06-21  44  45  46  47  1\n",
      "2018-06-22  48  49  50  51  1\n",
      "2018-06-23  52  88  54  55  1\n",
      "2018-06-24  56  88  58  59  1\n",
      "2018-06-25  60  88  62  63  1\n",
      "2018-06-26  64  88  66  67  1\n",
      "2018-06-27  68  88  70  71  1\n",
      "2018-06-28  72  88  74  75  1\n",
      "2018-06-29  76  88  78  79  1\n"
     ]
    }
   ],
   "source": [
    "import numpy as np\n",
    "import pandas as pd\n",
    "\n",
    "date = pd.date_range('20180610',periods = 20)\n",
    "df = pd.DataFrame(np.arange(80).reshape((20,4)),index = date,columns = ['A','B','C','D'])\n",
    "df.iloc[2,3]=69\n",
    "df.loc['20180620','C']=69\n",
    "df.B[df.B>50]=88\n",
    "df['F']=1\n",
    "print(df)"
   ]
  },
  {
   "cell_type": "code",
   "execution_count": 46,
   "metadata": {},
   "outputs": [
    {
     "name": "stdout",
     "output_type": "stream",
     "text": [
      "               A   B     C   D\n",
      "2018-06-10   0.0   1   NaN   3\n",
      "2018-06-11   4.0   5   6.0   7\n",
      "2018-06-12   8.0   9  10.0  11\n",
      "2018-06-13  12.0  13  14.0  15\n",
      "2018-06-14  16.0  17  18.0  19\n",
      "2018-06-15  20.0  21  22.0  23\n",
      "2018-06-16  24.0  25  26.0  27\n",
      "2018-06-17  28.0  29  30.0  31\n",
      "2018-06-18  32.0  33  34.0  35\n",
      "2018-06-19  36.0  37  38.0  39\n",
      "2018-06-20  40.0  41  42.0  43\n",
      "2018-06-21  44.0  45  46.0  47\n",
      "2018-06-22  48.0  49  50.0  51\n",
      "2018-06-23  52.0  53  54.0  55\n",
      "2018-06-24  56.0  57  58.0  59\n",
      "2018-06-25  60.0  61  62.0  63\n",
      "2018-06-26  64.0  65  66.0  67\n",
      "2018-06-27  68.0  69  70.0  71\n",
      "2018-06-28   NaN  73  74.0  75\n",
      "2018-06-29  76.0  77  78.0  79\n",
      "               A   B     C   D\n",
      "2018-06-11   4.0   5   6.0   7\n",
      "2018-06-12   8.0   9  10.0  11\n",
      "2018-06-13  12.0  13  14.0  15\n",
      "2018-06-14  16.0  17  18.0  19\n",
      "2018-06-15  20.0  21  22.0  23\n",
      "2018-06-16  24.0  25  26.0  27\n",
      "2018-06-17  28.0  29  30.0  31\n",
      "2018-06-18  32.0  33  34.0  35\n",
      "2018-06-19  36.0  37  38.0  39\n",
      "2018-06-20  40.0  41  42.0  43\n",
      "2018-06-21  44.0  45  46.0  47\n",
      "2018-06-22  48.0  49  50.0  51\n",
      "2018-06-23  52.0  53  54.0  55\n",
      "2018-06-24  56.0  57  58.0  59\n",
      "2018-06-25  60.0  61  62.0  63\n",
      "2018-06-26  64.0  65  66.0  67\n",
      "2018-06-27  68.0  69  70.0  71\n",
      "2018-06-29  76.0  77  78.0  79\n",
      "               A   B     C   D\n",
      "2018-06-10   0.0   1   NaN   3\n",
      "2018-06-11   4.0   5   6.0   7\n",
      "2018-06-12   8.0   9  10.0  11\n",
      "2018-06-13  12.0  13  14.0  15\n",
      "2018-06-14  16.0  17  18.0  19\n",
      "2018-06-15  20.0  21  22.0  23\n",
      "2018-06-16  24.0  25  26.0  27\n",
      "2018-06-17  28.0  29  30.0  31\n",
      "2018-06-18  32.0  33  34.0  35\n",
      "2018-06-19  36.0  37  38.0  39\n",
      "2018-06-20  40.0  41  42.0  43\n",
      "2018-06-21  44.0  45  46.0  47\n",
      "2018-06-22  48.0  49  50.0  51\n",
      "2018-06-23  52.0  53  54.0  55\n",
      "2018-06-24  56.0  57  58.0  59\n",
      "2018-06-25  60.0  61  62.0  63\n",
      "2018-06-26  64.0  65  66.0  67\n",
      "2018-06-27  68.0  69  70.0  71\n",
      "2018-06-28   NaN  73  74.0  75\n",
      "2018-06-29  76.0  77  78.0  79\n",
      "               A   B     C   D\n",
      "2018-06-10   0.0   1  99.0   3\n",
      "2018-06-11   4.0   5   6.0   7\n",
      "2018-06-12   8.0   9  10.0  11\n",
      "2018-06-13  12.0  13  14.0  15\n",
      "2018-06-14  16.0  17  18.0  19\n",
      "2018-06-15  20.0  21  22.0  23\n",
      "2018-06-16  24.0  25  26.0  27\n",
      "2018-06-17  28.0  29  30.0  31\n",
      "2018-06-18  32.0  33  34.0  35\n",
      "2018-06-19  36.0  37  38.0  39\n",
      "2018-06-20  40.0  41  42.0  43\n",
      "2018-06-21  44.0  45  46.0  47\n",
      "2018-06-22  48.0  49  50.0  51\n",
      "2018-06-23  52.0  53  54.0  55\n",
      "2018-06-24  56.0  57  58.0  59\n",
      "2018-06-25  60.0  61  62.0  63\n",
      "2018-06-26  64.0  65  66.0  67\n",
      "2018-06-27  68.0  69  70.0  71\n",
      "2018-06-28  99.0  73  74.0  75\n",
      "2018-06-29  76.0  77  78.0  79\n",
      "                A      B      C      D\n",
      "2018-06-10  False  False   True  False\n",
      "2018-06-11  False  False  False  False\n",
      "2018-06-12  False  False  False  False\n",
      "2018-06-13  False  False  False  False\n",
      "2018-06-14  False  False  False  False\n",
      "2018-06-15  False  False  False  False\n",
      "2018-06-16  False  False  False  False\n",
      "2018-06-17  False  False  False  False\n",
      "2018-06-18  False  False  False  False\n",
      "2018-06-19  False  False  False  False\n",
      "2018-06-20  False  False  False  False\n",
      "2018-06-21  False  False  False  False\n",
      "2018-06-22  False  False  False  False\n",
      "2018-06-23  False  False  False  False\n",
      "2018-06-24  False  False  False  False\n",
      "2018-06-25  False  False  False  False\n",
      "2018-06-26  False  False  False  False\n",
      "2018-06-27  False  False  False  False\n",
      "2018-06-28   True  False  False  False\n",
      "2018-06-29  False  False  False  False\n",
      "True\n"
     ]
    }
   ],
   "source": [
    "date = pd.date_range('20180610',periods = 20)\n",
    "df = pd.DataFrame(np.arange(80).reshape((20,4)),index = date,columns = ['A','B','C','D'])\n",
    "df.iloc[0,2]=np.nan\n",
    "df.iloc[18,0]=np.nan\n",
    "print(df)\n",
    "print(df.dropna(axis = 0,how = 'any'))\n",
    "print(df.dropna(axis = 1,how = 'all'))  #全部為nan才丟\n",
    "print(df.fillna(value = 99))  #把nan帶入數值\n",
    "print(df.isnull())  #檢視nan值位置\n",
    "print(np.any(df.isnull()) == True)  #檢視大表格中是否有nan值,有則顯示True"
   ]
  },
  {
   "cell_type": "code",
   "execution_count": 47,
   "metadata": {},
   "outputs": [
    {
     "name": "stdout",
     "output_type": "stream",
     "text": [
      "     a    b    c    d\n",
      "0  0.0  0.0  0.0  0.0\n",
      "1  0.0  0.0  0.0  0.0\n",
      "2  0.0  0.0  0.0  0.0\n",
      "3  1.0  1.0  1.0  1.0\n",
      "4  1.0  1.0  1.0  1.0\n",
      "5  1.0  1.0  1.0  1.0\n",
      "6  2.0  2.0  2.0  2.0\n",
      "7  2.0  2.0  2.0  2.0\n",
      "8  2.0  2.0  2.0  2.0\n"
     ]
    }
   ],
   "source": [
    "#concat\n",
    "df1 = pd.DataFrame(np.ones((3,4))*0,columns = ['a','b','c','d'])\n",
    "df2 = pd.DataFrame(np.ones((3,4))*1,columns = ['a','b','c','d'])\n",
    "df3 = pd.DataFrame(np.ones((3,4))*2,columns = ['a','b','c','d'])\n",
    "res = pd.concat([df1,df2,df3],axis = 0)\n",
    "res = pd.concat([df1,df2,df3],axis = 0,ignore_index = True)  #重新排序\n",
    "\n",
    "\n",
    "print(res)"
   ]
  },
  {
   "cell_type": "code",
   "execution_count": 48,
   "metadata": {},
   "outputs": [
    {
     "name": "stdout",
     "output_type": "stream",
     "text": [
      "     a    b    c    d    c    d    e    f\n",
      "1  0.0  0.0  0.0  0.0  NaN  NaN  NaN  NaN\n",
      "2  0.0  0.0  0.0  0.0  1.0  1.0  1.0  1.0\n",
      "3  0.0  0.0  0.0  0.0  1.0  1.0  1.0  1.0\n"
     ]
    }
   ],
   "source": [
    "#join['inner','outer']\n",
    "df1 = pd.DataFrame(np.ones((3,4))*0,columns = ['a','b','c','d'],index=[1,2,3])\n",
    "df2 = pd.DataFrame(np.ones((3,4))*1,columns = ['c','d','e','f'],index=[2,3,4])\n",
    "res = pd.concat([df1,df2],join='inner',ignore_index = True)\n",
    "res = pd.concat([df1,df2],axis=1,join_axes=[df1.index]) #給一個index依循處理\n",
    "\n",
    "print(res)"
   ]
  },
  {
   "cell_type": "code",
   "execution_count": 49,
   "metadata": {},
   "outputs": [
    {
     "name": "stdout",
     "output_type": "stream",
     "text": [
      "     a    b    c    d\n",
      "0  0.0  0.0  0.0  0.0\n",
      "1  0.0  0.0  0.0  0.0\n",
      "2  0.0  0.0  0.0  0.0\n",
      "3  1.0  1.0  1.0  1.0\n",
      "4  1.0  1.0  1.0  1.0\n",
      "5  1.0  1.0  1.0  1.0\n"
     ]
    }
   ],
   "source": [
    "#append\n",
    "df1 = pd.DataFrame(np.ones((3,4))*0,columns = ['a','b','c','d'])\n",
    "df2 = pd.DataFrame(np.ones((3,4))*1,columns = ['a','b','c','d'])\n",
    "res = df1.append(df2,ignore_index = True)\n",
    "print(res)"
   ]
  },
  {
   "cell_type": "code",
   "execution_count": 50,
   "metadata": {},
   "outputs": [
    {
     "name": "stdout",
     "output_type": "stream",
     "text": [
      "  key   A   B   C   D\n",
      "0  K0  A0  B0  C0  D0\n",
      "1  K1  A1  B1  C1  D1\n",
      "2  K2  A2  B2  C2  D2\n",
      "3  K3  A3  B3  C3  D3\n"
     ]
    }
   ],
   "source": [
    "left = pd.DataFrame({'key': ['K0', 'K1', 'K2', 'K3'],\n",
    "                                  'A': ['A0', 'A1', 'A2', 'A3'],\n",
    "                                  'B': ['B0', 'B1', 'B2', 'B3']})\n",
    "right = pd.DataFrame({'key': ['K0', 'K1', 'K2', 'K3'],\n",
    "                                    'C': ['C0', 'C1', 'C2', 'C3'],\n",
    "                                    'D': ['D0', 'D1', 'D2', 'D3']})\n",
    "\n",
    "res = pd.merge(left, right, on='key')\n",
    "\n",
    "\n",
    "print(res)"
   ]
  },
  {
   "cell_type": "code",
   "execution_count": 51,
   "metadata": {},
   "outputs": [
    {
     "name": "stdout",
     "output_type": "stream",
     "text": [
      "   col1 col_left  col_right indicator_column\n",
      "0     0        a        NaN        left_only\n",
      "1     1        b        2.0             both\n",
      "2     2      NaN        2.0       right_only\n",
      "3     2      NaN        2.0       right_only\n"
     ]
    }
   ],
   "source": [
    "df1 = pd.DataFrame({'col1':[0,1], 'col_left':['a','b']})\n",
    "df2 = pd.DataFrame({'col1':[1,2,2],'col_right':[2,2,2]})\n",
    "\n",
    "res = pd.merge(df1, df2, on='col1', how='outer', indicator=True)\n",
    "res = pd.merge(df1, df2, on='col1', how='outer', indicator='indicator_column')\n",
    "print(res)"
   ]
  },
  {
   "cell_type": "code",
   "execution_count": 52,
   "metadata": {},
   "outputs": [
    {
     "name": "stdout",
     "output_type": "stream",
     "text": [
      "     A   B   C   D\n",
      "K0  A0  B0  C0  D0\n",
      "K2  A2  B2  C2  D2\n"
     ]
    }
   ],
   "source": [
    "left = pd.DataFrame({'A': ['A0', 'A1', 'A2'],\n",
    "                                  'B': ['B0', 'B1', 'B2']},\n",
    "                                  index=['K0', 'K1', 'K2'])\n",
    "right = pd.DataFrame({'C': ['C0', 'C2', 'C3'],\n",
    "                                     'D': ['D0', 'D2', 'D3']},\n",
    "                                      index=['K0', 'K2', 'K3'])\n",
    "res = pd.merge(left, right, left_index=True, right_index=True, how='outer')\n",
    "res = pd.merge(left, right, left_index=True, right_index=True, how='inner')\n",
    "\n",
    "print(res)"
   ]
  },
  {
   "cell_type": "code",
   "execution_count": 53,
   "metadata": {},
   "outputs": [
    {
     "name": "stdout",
     "output_type": "stream",
     "text": [
      "    k  age_boy  age_girl\n",
      "0  K0        1         4\n",
      "1  K0        1         5\n"
     ]
    }
   ],
   "source": [
    "boys = pd.DataFrame({'k': ['K0', 'K1', 'K2'], 'age': [1, 2, 3]})\n",
    "girls = pd.DataFrame({'k': ['K0', 'K0', 'K3'], 'age': [4, 5, 6]})\n",
    "res = pd.merge(boys, girls, on='k', suffixes=['_boy', '_girl'], how='inner')\n",
    "print(res)"
   ]
  },
  {
   "cell_type": "code",
   "execution_count": null,
   "metadata": {},
   "outputs": [],
   "source": []
  },
  {
   "cell_type": "code",
   "execution_count": 56,
   "metadata": {},
   "outputs": [
    {
     "name": "stdout",
     "output_type": "stream",
     "text": [
      "Collecting matplotlib\n",
      "  Downloading https://files.pythonhosted.org/packages/c6/e0/1f98872856dcbd042220a142b5a2b4cb9a8f0efe959ae20f6cb73bd9f3e6/matplotlib-2.2.2-cp36-cp36m-win32.whl (8.5MB)\n",
      "Requirement already satisfied: python-dateutil>=2.1 in c:\\users\\big data\\appdata\\local\\programs\\python\\python36-32\\lib\\site-packages (from matplotlib)\n",
      "Requirement already satisfied: six>=1.10 in c:\\users\\big data\\appdata\\local\\programs\\python\\python36-32\\lib\\site-packages (from matplotlib)\n",
      "Requirement already satisfied: pytz in c:\\users\\big data\\appdata\\local\\programs\\python\\python36-32\\lib\\site-packages (from matplotlib)\n",
      "Collecting pyparsing!=2.0.4,!=2.1.2,!=2.1.6,>=2.0.1 (from matplotlib)\n",
      "  Downloading https://files.pythonhosted.org/packages/6a/8a/718fd7d3458f9fab8e67186b00abdd345b639976bc7fb3ae722e1b026a50/pyparsing-2.2.0-py2.py3-none-any.whl (56kB)\n",
      "Collecting cycler>=0.10 (from matplotlib)\n",
      "  Downloading https://files.pythonhosted.org/packages/f7/d2/e07d3ebb2bd7af696440ce7e754c59dd546ffe1bbe732c8ab68b9c834e61/cycler-0.10.0-py2.py3-none-any.whl\n",
      "Collecting kiwisolver>=1.0.1 (from matplotlib)\n",
      "  Downloading https://files.pythonhosted.org/packages/fd/59/8742e2c77c852e09f0d409af42ccc4165120943ba3b52d57a3ddc56cb0ca/kiwisolver-1.0.1-cp36-none-win32.whl (44kB)\n",
      "Requirement already satisfied: numpy>=1.7.1 in c:\\users\\big data\\appdata\\local\\programs\\python\\python36-32\\lib\\site-packages (from matplotlib)\n",
      "Requirement already satisfied: setuptools in c:\\users\\big data\\appdata\\local\\programs\\python\\python36-32\\lib\\site-packages (from kiwisolver>=1.0.1->matplotlib)\n",
      "Installing collected packages: pyparsing, cycler, kiwisolver, matplotlib\n",
      "Successfully installed cycler-0.10.0 kiwisolver-1.0.1 matplotlib-2.2.2 pyparsing-2.2.0\n"
     ]
    },
    {
     "name": "stderr",
     "output_type": "stream",
     "text": [
      "You are using pip version 9.0.3, however version 10.0.1 is available.\n",
      "You should consider upgrading via the 'python -m pip install --upgrade pip' command.\n"
     ]
    }
   ],
   "source": [
    "!pip install matplotlib"
   ]
  },
  {
   "cell_type": "code",
   "execution_count": 77,
   "metadata": {},
   "outputs": [],
   "source": [
    "import matplotlib.pyplot as plt\n"
   ]
  },
  {
   "cell_type": "code",
   "execution_count": 94,
   "metadata": {},
   "outputs": [
    {
     "data": {
      "text/plain": [
       "[<matplotlib.lines.Line2D at 0x129d2270>]"
      ]
     },
     "execution_count": 94,
     "metadata": {},
     "output_type": "execute_result"
    },
    {
     "data": {
      "image/png": "[encoded data removed]",
      "text/plain": [
       "<Figure size 432x288 with 1 Axes>"
      ]
     },
     "metadata": {},
     "output_type": "display_data"
    }
   ],
   "source": [
    "data = pd.Series(np.random.randn(10000),index = np.arange(10000))\n",
    "data = data.cumsum()\n",
    "%matplotlib inline\n",
    "\n",
    "plt.plot(data)\n"
   ]
  },
  {
   "cell_type": "code",
   "execution_count": 95,
   "metadata": {},
   "outputs": [
    {
     "data": {
      "text/plain": [
       "[<matplotlib.lines.Line2D at 0x12a09910>,\n",
       " <matplotlib.lines.Line2D at 0x12a099f0>,\n",
       " <matplotlib.lines.Line2D at 0x12a09ab0>,\n",
       " <matplotlib.lines.Line2D at 0x12a09b70>,\n",
       " <matplotlib.lines.Line2D at 0x12a09c30>]"
      ]
     },
     "execution_count": 95,
     "metadata": {},
     "output_type": "execute_result"
    },
    {
     "data": {
      "image/png": "[encoded data removed]",
      "text/plain": [
       "<Figure size 432x288 with 1 Axes>"
      ]
     },
     "metadata": {},
     "output_type": "display_data"
    }
   ],
   "source": [
    "data = pd.DataFrame(np.random.randn(10000,5),index = np.arange(10000),columns = list(\"ABCDE\"))\n",
    "data = data.cumsum()\n",
    "plt.plot(data)\n"
   ]
  },
  {
   "cell_type": "code",
   "execution_count": null,
   "metadata": {},
   "outputs": [],
   "source": []
  },
  {
   "cell_type": "code",
   "execution_count": null,
   "metadata": {},
   "outputs": [],
   "source": []
  },
  {
   "cell_type": "code",
   "execution_count": null,
   "metadata": {},
   "outputs": [],
   "source": []
  },
  {
   "cell_type": "code",
   "execution_count": null,
   "metadata": {},
   "outputs": [],
   "source": []
  },
  {
   "cell_type": "code",
   "execution_count": null,
   "metadata": {},
   "outputs": [],
   "source": []
  },
  {
   "cell_type": "code",
   "execution_count": null,
   "metadata": {},
   "outputs": [],
   "source": []
  }
 ],
 "metadata": {
  "kernelspec": {
   "display_name": "Python 3",
   "language": "python",
   "name": "python3"
  },
  "language_info": {
   "codemirror_mode": {
    "name": "ipython",
    "version": 3
   },
   "file_extension": ".py",
   "mimetype": "text/x-python",
   "name": "python",
   "nbconvert_exporter": "python",
   "pygments_lexer": "ipython3",
   "version": "3.6.5"
  }
 },
 "nbformat": 4,
 "nbformat_minor": 2
}
